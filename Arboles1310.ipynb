{
  "nbformat": 4,
  "nbformat_minor": 0,
  "metadata": {
    "colab": {
      "name": "Arboles1310.ipynb",
      "provenance": []
    },
    "kernelspec": {
      "name": "python3",
      "display_name": "Python 3"
    },
    "language_info": {
      "name": "python"
    }
  },
  "cells": [
    {
      "cell_type": "code",
      "metadata": {
        "id": "zHL5yhF9DLYv"
      },
      "source": [
        "class NodoBinario:\n",
        "    def __init__( self, value, left= None, right= None ):\n",
        "        self.data = value\n",
        "        self.left = left\n",
        "        self.right = right\n",
        "class NodoTernario:\n",
        "    def __init__(self, value, left= None, center= None , right= None):   \n",
        "        self.data = value\n",
        "        self.left = left\n",
        "        self.center = center\n",
        "        self.right = right    "
      ],
      "execution_count": 1,
      "outputs": []
    },
    {
      "cell_type": "code",
      "metadata": {
        "colab": {
          "base_uri": "https://localhost:8080/"
        },
        "id": "YWgXAF-QEhTJ",
        "outputId": "70431fae-1898-4937-db57-bcbb66c26fd6"
      },
      "source": [
        "arbol1= NodoBinario(\"R\", NodoBinario(\"C\"), NodoBinario(\"H\"))\n",
        "print(arbol1.right.data)\n",
        "\n",
        "arbol2= NodoTernario(4, NodoTernario(3, NodoTernario(5 , left= NodoTernario(2))\\\n",
        "        , NodoTernario(5),NodoTernario(2)), None, NodoTernario(5))\n",
        "print(arbol2.left.right.data)\n",
        "print(arbol2.data)\n",
        "print(arbol2.left.center.data)\n",
        "print(arbol2.left.left.left.data)\n"
      ],
      "execution_count": 8,
      "outputs": [
        {
          "output_type": "stream",
          "name": "stdout",
          "text": [
            "H\n",
            "2\n",
            "4\n",
            "5\n",
            "2\n"
          ]
        }
      ]
    },
    {
      "cell_type": "code",
      "metadata": {
        "id": "O90cPWX5Ii6K"
      },
      "source": [
        "Binario(\"Jesus\",NodoBinario(\"Pedro\"))"
      ],
      "execution_count": null,
      "outputs": []
    }
  ]
}